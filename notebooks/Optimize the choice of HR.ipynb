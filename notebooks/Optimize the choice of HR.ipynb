{
 "cells": [
  {
   "cell_type": "code",
   "execution_count": 1,
   "source": [
    "# if you are in the root folder, don't run this line\n",
    "import os\n",
    "\n",
    "os.chdir(\"..\")\n",
    "os.getcwd()"
   ],
   "outputs": [
    {
     "output_type": "execute_result",
     "data": {
      "text/plain": [
       "'/home/jibancat/Documents/PYTHON/emu_mpi4py'"
      ]
     },
     "metadata": {},
     "execution_count": 1
    }
   ],
   "metadata": {}
  },
  {
   "cell_type": "code",
   "execution_count": 2,
   "source": [
    "from typing import List\n",
    "\n",
    "import numpy as np\n",
    "from matplotlib import pyplot as plt\n",
    "import matplotlib\n",
    "\n",
    "from matter_multi_fidelity_emu.gpemulator_singlebin import (\n",
    "    SingleBinGP,\n",
    "    SingleBinLinearGP,\n",
    "    SingleBinNonLinearGP,\n",
    ")\n",
    "from matter_multi_fidelity_emu.data_loader import PowerSpecs\n",
    "\n",
    "# set a random number seed to reproducibility\n",
    "np.random.seed(0)\n",
    "\n",
    "from itertools import combinations\n",
    "\n",
    "from trainset_optimize.optmize import TrainSetOptimize"
   ],
   "outputs": [],
   "metadata": {}
  },
  {
   "cell_type": "code",
   "execution_count": 3,
   "source": [
    "def generate_data(folder: str = \"data/50_LR_3_HR/\"):\n",
    "    data = PowerSpecs(folder=folder)\n",
    "    return data"
   ],
   "outputs": [],
   "metadata": {}
  },
  {
   "cell_type": "markdown",
   "source": [
    "## Find the HR choices\n",
    "\n",
    "The following outlines the procedure to select 3 cosmologies for high-fidelity training set\n",
    "out of low-fidelity latin hypercube (which has 50 cosmologies).\n",
    "\n",
    "This simple procedure will find the optimal 2 cosmologies first by optizing the low-fidelity only\n",
    "emulator. This is done by searching all combinations of 2 cosmologies in the LF lating hypercube.\n",
    "\n",
    "Conditioning on the selected 2 cosmologies, we perform the optimization again to find the 3rd\n",
    "high-fidelity selection."
   ],
   "metadata": {}
  },
  {
   "cell_type": "code",
   "execution_count": 4,
   "source": [
    "# acquire data object, the text files \n",
    "data = generate_data()\n",
    "\n",
    "i_fidelity = 0\n",
    "\n",
    "X = data.X_train_norm[i_fidelity]\n",
    "Y = data.Y_train[i_fidelity]\n",
    "\n",
    "train_opt = TrainSetOptimize(X=X, Y=Y)\n",
    "\n",
    "# find the optimal two indices first;\n",
    "# looking for all possible combinations\n",
    "num_samples, _ = data.X_train[0].shape\n",
    "num_selected = 2\n",
    "\n",
    "all_combinations = list(combinations(range(num_samples), num_selected))"
   ],
   "outputs": [],
   "metadata": {}
  },
  {
   "cell_type": "code",
   "execution_count": 5,
   "source": [
    "plt.loglog(10**data.kf, 10**data.Y_train[0][9])\n",
    "plt.loglog(10**data.kf, 10**data.Y_train[1][0])"
   ],
   "outputs": [
    {
     "output_type": "execute_result",
     "data": {
      "text/plain": [
       "[<matplotlib.lines.Line2D at 0x7f8e66ea7550>]"
      ]
     },
     "metadata": {},
     "execution_count": 5
    },
    {
     "output_type": "display_data",
     "data": {
      "text/plain": [
       "<Figure size 432x288 with 1 Axes>"
      ],
      "image/png": "[encoded data removed]"
     },
     "metadata": {
      "needs_background": "light"
     }
    }
   ],
   "metadata": {}
  },
  {
   "cell_type": "code",
   "execution_count": 6,
   "source": [
    "%%capture\n",
    "# loop over to get the least loss 2 indices\n",
    "all_loss = []\n",
    "\n",
    "for i,selected_index in enumerate(all_combinations):\n",
    "\n",
    "    # need to convert to boolean array\n",
    "    ind = np.zeros(num_samples, dtype=np.bool)\n",
    "    ind[np.array(selected_index)] = True\n",
    "\n",
    "    loss = train_opt.loss(ind)\n",
    "    \n",
    "    print(\"iteration:\", i)\n",
    "\n",
    "    all_loss.append(loss)"
   ],
   "outputs": [],
   "metadata": {
    "scrolled": true
   }
  },
  {
   "cell_type": "code",
   "execution_count": 7,
   "source": [
    "# find the set of indices best minimize the loss\n",
    "selected_index = np.array(all_combinations[np.argmin(all_loss)])\n",
    "\n",
    "selected_index"
   ],
   "outputs": [
    {
     "output_type": "execute_result",
     "data": {
      "text/plain": [
       "array([19, 37])"
      ]
     },
     "metadata": {},
     "execution_count": 7
    }
   ],
   "metadata": {}
  },
  {
   "cell_type": "markdown",
   "source": [
    "## Procedure to find the next optimal index"
   ],
   "metadata": {}
  },
  {
   "cell_type": "code",
   "execution_count": 8,
   "source": [
    "# find the 3rd HighRes selection\n",
    "prev_ind = np.zeros(num_samples, dtype=np.bool)\n",
    "prev_ind[np.array(selected_index)] = True\n",
    "\n",
    "assert np.sum(prev_ind) == len(selected_index)"
   ],
   "outputs": [],
   "metadata": {}
  },
  {
   "cell_type": "code",
   "execution_count": 9,
   "source": [
    "%%capture\n",
    "next_index, all_next_loss = train_opt.optimize(prev_ind,)"
   ],
   "outputs": [],
   "metadata": {
    "scrolled": true
   }
  },
  {
   "cell_type": "code",
   "execution_count": 10,
   "source": [
    "# optimal next selection indices\n",
    "optimal_index = np.append(selected_index, next_index)\n",
    "\n",
    "optimal_index"
   ],
   "outputs": [
    {
     "output_type": "execute_result",
     "data": {
      "text/plain": [
       "array([19, 37, 45])"
      ]
     },
     "metadata": {},
     "execution_count": 10
    }
   ],
   "metadata": {
    "scrolled": true
   }
  },
  {
   "cell_type": "code",
   "execution_count": 12,
   "source": [
    "# the high-fidelity selection is a subset of low-fidelity latin hypercube\n",
    "# the above cell output means 19th, 37th and 45th cosmologies are the\n",
    "# choice for the high-fidelity simulation training set."
   ],
   "outputs": [],
   "metadata": {}
  },
  {
   "cell_type": "code",
   "execution_count": 14,
   "source": [
    "# cosmologies:\n",
    "# \"omega0\", \"omegab\", \"hubble\", \"scalar_amp\", \"ns\"\n",
    "data.X_train[0][optimal_index]"
   ],
   "outputs": [
    {
     "output_type": "execute_result",
     "data": {
      "text/plain": [
       "array([[2.972e-01, 4.732e-02, 6.650e-01, 2.293e-09, 9.135e-01],\n",
       "       [3.004e-01, 4.532e-02, 6.710e-01, 2.761e-09, 9.297e-01],\n",
       "       [2.884e-01, 4.844e-02, 7.090e-01, 2.345e-09, 9.477e-01]])"
      ]
     },
     "metadata": {},
     "execution_count": 14
    }
   ],
   "metadata": {}
  },
  {
   "cell_type": "code",
   "execution_count": null,
   "source": [],
   "outputs": [],
   "metadata": {}
  }
 ],
 "metadata": {
  "kernelspec": {
   "name": "python3",
   "display_name": "Python 3.7.4 64-bit (conda)"
  },
  "language_info": {
   "codemirror_mode": {
    "name": "ipython",
    "version": 3
   },
   "file_extension": ".py",
   "mimetype": "text/x-python",
   "name": "python",
   "nbconvert_exporter": "python",
   "pygments_lexer": "ipython3",
   "version": "3.7.4"
  },
  "interpreter": {
   "hash": "204f4f11dabb1586d1da81df4b2feb72a7b7f68b4e0428f446bab1ef33d0c175"
  }
 },
 "nbformat": 4,
 "nbformat_minor": 5
}